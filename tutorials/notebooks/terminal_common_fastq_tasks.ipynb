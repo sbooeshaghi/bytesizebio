{
  "nbformat": 4,
  "nbformat_minor": 0,
  "metadata": {
    "colab": {
      "name": "terminal_common_fastq_tasks.ipynb",
      "provenance": [],
      "collapsed_sections": [],
      "toc_visible": true,
      "authorship_tag": "ABX9TyPHd2dkiEFuj+LGhQDoEwu8",
      "include_colab_link": true
    },
    "kernelspec": {
      "name": "python3",
      "display_name": "Python 3"
    }
  },
  "cells": [
    {
      "cell_type": "markdown",
      "metadata": {
        "id": "view-in-github",
        "colab_type": "text"
      },
      "source": [
        "<a href=\"https://colab.research.google.com/github/sbooeshaghi/bytesizebio/blob/main/tutorials/notebooks/terminal_common_fastq_tasks.ipynb\" target=\"_parent\"><img src=\"https://colab.research.google.com/assets/colab-badge.svg\" alt=\"Open In Colab\"/></a>"
      ]
    },
    {
      "cell_type": "markdown",
      "metadata": {
        "id": "nU7lRLqsBXPA"
      },
      "source": [
        "# Common FASTQ tasks"
      ]
    },
    {
      "cell_type": "markdown",
      "metadata": {
        "id": "Rf2pneQGBbN-"
      },
      "source": [
        "FASTQ files are text files that contain biological sequences, usually nucleotides, and their associated quality scores. Often we'd like to perform various tasks on the files such as:\n",
        "\n",
        "\n",
        "\n",
        "1.   finding the reverse complement,\n",
        "2.   performing advanced sequence searching,\n",
        "3.   converting FASTQ files to other formats,\n",
        "4.    \n",
        "\n",
        "----------------\n",
        "**tl;dr** In this tutorial we introduce more advanced ways to manipulate and interact with FASTQ files\n"
      ]
    },
    {
      "cell_type": "markdown",
      "metadata": {
        "id": "sPOa9LMaCSlK"
      },
      "source": [
        "## Downloading FASTQ files with `curl`\n",
        "\n",
        "We will use the `curl` command to download FASTQ files to our machine. [`curl`](https://curl.se/) is a command line tool that allows us to download files. It takes a URL as an argument and downloads the file to your local computer in the current directory.\n",
        "\n",
        "FASTQ files usually come in pairs, known as \"read 1\" and \"read 2\". This naming convention originates from the order in which the molecules in a sequencing machine are sequenced."
      ]
    },
    {
      "cell_type": "code",
      "metadata": {
        "colab": {
          "base_uri": "https://localhost:8080/"
        },
        "id": "WJGe-7uABVrb",
        "outputId": "6b7f4c64-99f6-4467-a169-cd0c4e0a1ba1"
      },
      "source": [
        "%%bash\n",
        "curl -Ls -o read1.fastq https://caltech.box.com/shared/static/fh81mkceb8ydwma3tlrqfgq22z4kc4nt.gz\n",
        "curl -Ls -o read2.fastq https://caltech.box.com/shared/static/ycxkluj5my7g3wiwhyq3vhv71mw5gmj5.gz\n",
        "ls -lht"
      ],
      "execution_count": 1,
      "outputs": [
        {
          "output_type": "stream",
          "text": [
            "total 434M\n",
            "-rw-r--r-- 1 root root 247M Jan  5 19:34 read2.fastq\n",
            "-rw-r--r-- 1 root root 188M Jan  5 19:34 read1.fastq\n",
            "drwxr-xr-x 1 root root 4.0K Dec 21 17:29 sample_data\n"
          ],
          "name": "stdout"
        }
      ]
    },
    {
      "cell_type": "markdown",
      "metadata": {
        "id": "cK3_dkdUC388"
      },
      "source": [
        "The `curl` command uses three options: \n",
        "1.    `-L` tells curl to follow any redirects in case the file was moved,\n",
        "2.    `-s` tells curl to not print any logging information (i.e. the command is silent),\n",
        "3.    and the `-o` specifies the new name of the file to be saved to our machine."
      ]
    },
    {
      "cell_type": "markdown",
      "metadata": {
        "id": "EzMjchqZIXar"
      },
      "source": [
        "## Printing out only sequences\n",
        "\n",
        "Often times we care only about the sequences in the FASTQ files and nothing else. We are tasked with converting the FASTQ file into just a file of sequences.\n",
        "\n",
        "Recall that a FASTQ file is comprised of sequences of molecules and associated metadata. Each molecule is represented by four lines:\n",
        "\n",
        "```\n",
        "@SRR8611943.1 NS500272:478:HVL5HBGX5:1:11101:9611:1040 length=26\n",
        "ACATCNGTCGAGAACGATCGTGTCCG\n",
        "+SRR8611943.1 NS500272:478:HVL5HBGX5:1:11101:9611:1040 length=26\n",
        "AAAAA#EEEEEEEEEEEEEEEEEEEE\n",
        "```\n",
        "The first line is the molecule identifier, the second line is the actual sequence of the molecule, the third line starts with a + sign and provides optional information, and the fourth line is the quality score of the sequence. Note that the quality score must be the same length of the molecule. \n",
        "\n",
        "So we need to figure out a way to print the sequence (line 2) and every 4 lines after that."
      ]
    },
    {
      "cell_type": "markdown",
      "metadata": {
        "id": "YXz0KvXxJFcb"
      },
      "source": [
        "### The `awk` command\n",
        "\n",
        "The `awk` command is a commandline tool for advanced processing of text files. It can perform many tasks and we will use it for printing out only the sequences from the FASTQ files. `awk` operates on a line-by-line basis and treats each line as a collection of \"columns\" separated by a \"separator\" such as a space, a comma, or a tab. In the simplest case we can print out every line input to awk by printing the `0th` column: \n",
        "\n",
        "```\n",
        "awk '{print $0}' file.txt\n",
        "```\n",
        "\n",
        "Let's use it on our FASTQ files. If you recall, a fastq file that has not been compressed with `gzip` is simply a text file. Since we don't want the entire contents of the file to be printed to the screen, we can limit the number of lines with the `head` command."
      ]
    },
    {
      "cell_type": "code",
      "metadata": {
        "colab": {
          "base_uri": "https://localhost:8080/"
        },
        "id": "OOrpZxWYK2mq",
        "outputId": "a1a17ad5-51f4-4b43-bc74-17e2d40962ed"
      },
      "source": [
        "%%bash\n",
        "awk '{print $0}' read1.fastq | head -n 4"
      ],
      "execution_count": 9,
      "outputs": [
        {
          "output_type": "stream",
          "text": [
            "@SRR8611943.1 NS500272:478:HVL5HBGX5:1:11101:9611:1040 length=26\n",
            "ACATCNGTCGAGAACGATCGTGTCCG\n",
            "+SRR8611943.1 NS500272:478:HVL5HBGX5:1:11101:9611:1040 length=26\n",
            "AAAAA#EEEEEEEEEEEEEEEEEEEE\n"
          ],
          "name": "stdout"
        }
      ]
    },
    {
      "cell_type": "markdown",
      "metadata": {
        "id": "eJuSE-UBNx9Y"
      },
      "source": [
        "The `awk` command also has a built-in variable called `NR`. This variable stores the current line number. We can also print it out:"
      ]
    },
    {
      "cell_type": "code",
      "metadata": {
        "colab": {
          "base_uri": "https://localhost:8080/"
        },
        "id": "D51n8sphN9CV",
        "outputId": "0792d0d1-9ef3-4cfe-84e8-f24d6e5aac0f"
      },
      "source": [
        "%%bash\n",
        "awk '{print NR, $0}' read1.fastq | head -n 12"
      ],
      "execution_count": 13,
      "outputs": [
        {
          "output_type": "stream",
          "text": [
            "1 @SRR8611943.1 NS500272:478:HVL5HBGX5:1:11101:9611:1040 length=26\n",
            "2 ACATCNGTCGAGAACGATCGTGTCCG\n",
            "3 +SRR8611943.1 NS500272:478:HVL5HBGX5:1:11101:9611:1040 length=26\n",
            "4 AAAAA#EEEEEEEEEEEEEEEEEEEE\n",
            "5 @SRR8611943.2 NS500272:478:HVL5HBGX5:1:11101:20079:1043 length=26\n",
            "6 TCAGCNCCAACTGCTAGTCTTTCCCT\n",
            "7 +SRR8611943.2 NS500272:478:HVL5HBGX5:1:11101:20079:1043 length=26\n",
            "8 AAAAA#EEEEEE6EEEEEEEEEEEEE\n",
            "9 @SRR8611943.3 NS500272:478:HVL5HBGX5:1:11101:10651:1043 length=26\n",
            "10 TGAAANATCACGCGGTTCATCAGTAG\n",
            "11 +SRR8611943.3 NS500272:478:HVL5HBGX5:1:11101:10651:1043 length=26\n",
            "12 AAAAA#EEEAEEEEEEEAEEEEEEEE\n"
          ],
          "name": "stdout"
        }
      ]
    },
    {
      "cell_type": "markdown",
      "metadata": {
        "id": "jSOXhsjKOD2t"
      },
      "source": [
        "### The modulo (`%`) operator \n",
        "Notice how the sequence of interest occurs on the 2nd line and then again on the 6th line and then again on the 10th line. The sequences are spaced four lines apart and start on line 2. We can be clever and print out only those lines using the modulo `%` operator. The modulo operator is the same as seen in python. Given two numbers `a` and `b`, the operation `a%b` first divides `a` by `b` and then returns the remainder. For example:"
      ]
    },
    {
      "cell_type": "code",
      "metadata": {
        "colab": {
          "base_uri": "https://localhost:8080/"
        },
        "id": "CFUIcORnOtNj",
        "outputId": "304e6bcd-827a-4b00-903f-f200082f2900"
      },
      "source": [
        "%%python\n",
        "a = 17\n",
        "b = 4\n",
        "print(f\"{a}/{b} = {a//b} with a remainder of {a%b}.\")\n",
        "print(f\"In other words: {b}*{a//b} + {a%b} = {a}.\")"
      ],
      "execution_count": 22,
      "outputs": [
        {
          "output_type": "stream",
          "text": [
            "17/4 = 4 with a remainder of 1.\n",
            "In other words: 4*4 + 1 = 17.\n"
          ],
          "name": "stdout"
        }
      ]
    },
    {
      "cell_type": "markdown",
      "metadata": {
        "id": "ROpYqqwoPgEv"
      },
      "source": [
        "To get every 4th line of the file we want to print out the lines when `NR%4==0`. We can declare the condition to print the line by writing the condition before the `{print}` in the following way:\n",
        "\n",
        "```\n",
        "awk '(condition){print $0}' file.txt\n",
        "```\n",
        "\n",
        "Let's try it on our file:"
      ]
    },
    {
      "cell_type": "code",
      "metadata": {
        "colab": {
          "base_uri": "https://localhost:8080/"
        },
        "id": "TkfACWF_Pn0S",
        "outputId": "1fd5d787-bba5-4dac-9e26-f3ca89b09df6"
      },
      "source": [
        "%%bash\n",
        "awk 'NR%4==0{print NR, $0}' read1.fastq | head -n 6"
      ],
      "execution_count": 39,
      "outputs": [
        {
          "output_type": "stream",
          "text": [
            "4 AAAAA#EEEEEEEEEEEEEEEEEEEE\n",
            "8 AAAAA#EEEEEE6EEEEEEEEEEEEE\n",
            "12 AAAAA#EEEAEEEEEEEAEEEEEEEE\n",
            "16 AAAAA#EEEEEEEEEEEEEEEEEEEE\n",
            "20 AAAAA#EEEEEEEEEEAEEEEEEEEE\n",
            "24 AAA6A#EEEEAEEEAEE6EEEEEEEE\n"
          ],
          "name": "stdout"
        }
      ]
    },
    {
      "cell_type": "markdown",
      "metadata": {
        "id": "-xUzbRl2QEyu"
      },
      "source": [
        "Notice that this gives us the rows `4, 8, 12...`, i.e. the quality score. We need to shift the condition by 2 so that we get the sequence instead:\n"
      ]
    },
    {
      "cell_type": "code",
      "metadata": {
        "colab": {
          "base_uri": "https://localhost:8080/"
        },
        "id": "E0scBd9hkdJF",
        "outputId": "24574e72-98e1-4d86-a60d-28e9f41b0695"
      },
      "source": [
        "%%bash\n",
        "awk 'NR%4==2{print NR, $0}' read1.fastq | head -n 6"
      ],
      "execution_count": 42,
      "outputs": [
        {
          "output_type": "stream",
          "text": [
            "2 ACATCNGTCGAGAACGATCGTGTCCG\n",
            "6 TCAGCNCCAACTGCTAGTCTTTCCCT\n",
            "10 TGAAANATCACGCGGTTCATCAGTAG\n",
            "14 GCGCANCAGGCTACGATCGATCATGG\n",
            "18 CTGATNCTCCTTTCTCATGGAGAATG\n",
            "22 CGAGCNAAGTGAAGAGTGCGAAAGCC\n"
          ],
          "name": "stdout"
        }
      ]
    },
    {
      "cell_type": "markdown",
      "metadata": {
        "id": "Trl7BvqXl-EE"
      },
      "source": [
        "### Saving the sequences to a file\n",
        "\n",
        "Now if we want to save this as a new file we can direct the stream of text to a new file like so:"
      ]
    },
    {
      "cell_type": "code",
      "metadata": {
        "id": "7kU3F2gglxJg"
      },
      "source": [
        "%%bash\n",
        "awk 'NR%4==2{print $0}' read1.fastq > read1.txt"
      ],
      "execution_count": 47,
      "outputs": []
    },
    {
      "cell_type": "markdown",
      "metadata": {
        "id": "qu50InBsDUac"
      },
      "source": [
        "## Finding the reverse complement\n",
        "\n",
        "DNA (Dexoy-riboNucleic Acid) is a two-stranded biopolymer where each monormer is one of the four nucleotides\n",
        "\n",
        "1.    Adenosine (`A`)\n",
        "2.    Thymine   (`T`)\n",
        "3.    Guanine   (`G`)\n",
        "4.    Cytosine  (`C`).\n",
        "\n",
        "The strands have a directionality, commonly called to as the `3'` and `5'` ends which refers to the position of the carbon atoms in the pentose-sugar-ring. The `5'`-carbon usually has a phosphate group attached to it and the `3'`-carbon end usually has a hydroxyl (`OH`) group group attached to it. The nucleotides bind complementarily and run anti-parallel to each other. Here is an example:\n",
        "\n",
        "```\n",
        "5' - A A T G G A C C T A C A C T G T C A - 3'\n",
        "     | | | | | | | | | | | | | | | | | |\n",
        "3' - T T A C C T G G A T G T G A C A G T - 5'\n",
        "```\n",
        "\n",
        "Often bioinformaticians want to know the the reverse complement of a given sequence."
      ]
    },
    {
      "cell_type": "markdown",
      "metadata": {
        "id": "vQmK7_SmGjgX"
      },
      "source": [
        "### Relevant commands\n",
        "\n",
        "To find the reverse complement we will use two commands, `echo` and `tr`."
      ]
    },
    {
      "cell_type": "markdown",
      "metadata": {
        "id": "bknDG1sjG9e9"
      },
      "source": [
        "#### The `echo` command\n",
        "\n",
        "The `echo` command is a commandline tool that allows us to \"print\" whatever argument was supplied to it. For example:"
      ]
    },
    {
      "cell_type": "code",
      "metadata": {
        "colab": {
          "base_uri": "https://localhost:8080/"
        },
        "id": "aJgTtzPcHCxE",
        "outputId": "9ab30c51-b422-4f07-e51e-09fee7f927be"
      },
      "source": [
        "%%bash\n",
        "echo \"Hello world\""
      ],
      "execution_count": 4,
      "outputs": [
        {
          "output_type": "stream",
          "text": [
            "Hello world\n"
          ],
          "name": "stdout"
        }
      ]
    },
    {
      "cell_type": "markdown",
      "metadata": {
        "id": "nJ4rsYgwG-xx"
      },
      "source": [
        "#### The `tr` command\n",
        "\n",
        "The `tr` command is a commandline tool that is commonly referred to as the \"translate\" command. It will take in a set of letters and replace them with the new set. A common use case is to convert lowercase letters to uppercase letters. \n",
        "\n",
        "\n",
        "**Note**: `tr` takes the text that you will convert from a pipe. We don't cover pipes in this video but here is an [instructive video](https://www.youtube.com/watch?v=bKzonnwoR2I) on them.\n",
        "\n"
      ]
    },
    {
      "cell_type": "code",
      "metadata": {
        "colab": {
          "base_uri": "https://localhost:8080/"
        },
        "id": "NwbKoVRSHgtM",
        "outputId": "52349d24-5e14-4616-f3b0-ff2e9c722a2d"
      },
      "source": [
        "%%bash\n",
        "echo \"aaaaaBBBCCCC\" | tr \"a\" \"A\" "
      ],
      "execution_count": 5,
      "outputs": [
        {
          "output_type": "stream",
          "text": [
            "AAAAABBBCCCC\n"
          ],
          "name": "stdout"
        }
      ]
    },
    {
      "cell_type": "markdown",
      "metadata": {
        "id": "noPRcKJPsS_b"
      },
      "source": [
        "#### The `rev` command\n",
        "\n",
        "The `rev` command is a commandline tool that reverses the input lines. For example:"
      ]
    },
    {
      "cell_type": "code",
      "metadata": {
        "colab": {
          "base_uri": "https://localhost:8080/"
        },
        "id": "MZgimNifs3Oh",
        "outputId": "05288446-23bb-40d7-80e8-38320b08260e"
      },
      "source": [
        "%%bash\n",
        "echo \"aaaaaBBBCCCC\" | rev"
      ],
      "execution_count": 44,
      "outputs": [
        {
          "output_type": "stream",
          "text": [
            "CCCCBBBaaaaa\n"
          ],
          "name": "stdout"
        }
      ]
    },
    {
      "cell_type": "markdown",
      "metadata": {
        "id": "MVMGmbH8IGEE"
      },
      "source": [
        "### Using `tr`, `rev`, and `echo` together\n",
        "\n",
        "We can now `echo` the sequence we want to convert into the `tr` command to find the complementary base and then pass it into the `rev` command to reverse the sequence."
      ]
    },
    {
      "cell_type": "code",
      "metadata": {
        "colab": {
          "base_uri": "https://localhost:8080/"
        },
        "id": "sOWTsZeTBO49",
        "outputId": "dfe9fef9-128a-4be7-9eb4-f8e966c900ef"
      },
      "source": [
        "%%bash\n",
        "echo \"AATGGACCTACACTGTCA\" | tr \"ATGC\" \"TACG\""
      ],
      "execution_count": 3,
      "outputs": [
        {
          "output_type": "stream",
          "text": [
            "TTACCTGGATGTGACAGT\n"
          ],
          "name": "stdout"
        }
      ]
    },
    {
      "cell_type": "markdown",
      "metadata": {
        "id": "z05wtrqtmXZM"
      },
      "source": [
        "### Processing all sequences\n",
        "\n",
        "We are now armed with the tools to process all of the sequences in our `read1.txt` file that we generated earlier."
      ]
    },
    {
      "cell_type": "code",
      "metadata": {
        "colab": {
          "base_uri": "https://localhost:8080/"
        },
        "id": "W0ylrmOPBNhk",
        "outputId": "38ba7503-9ee9-45dd-8b89-124883719acf"
      },
      "source": [
        "%%bash\n",
        "cat read1.txt | tr \"ATGC\" \"TACG\" | rev | head"
      ],
      "execution_count": 48,
      "outputs": [
        {
          "output_type": "stream",
          "text": [
            "CGGACACGATCGTTCTCGACNGATGT\n",
            "AGGGAAAGACTAGCAGTTGGNGCTGA\n",
            "CTACTGATGAACCGCGTGATNTTTCA\n",
            "CCATGATCGATCGTAGCCTGNTGCGC\n",
            "CATTCTCCATGAGAAAGGAGNATCAG\n",
            "GGCTTTCGCACTCTTCACTTNGCTCG\n",
            "AGCTCTAACTTATGCCCTGCNATTCT\n",
            "ACCGAAACGTAGTCGTAACTNGCTGA\n",
            "TTTTGGAAACTGGATGACTGNTGTCA\n",
            "GCCGATGTCCGCGCTAGACTNAAGGT\n"
          ],
          "name": "stdout"
        }
      ]
    },
    {
      "cell_type": "markdown",
      "metadata": {
        "id": "qQeLy9ZVtRGo"
      },
      "source": [
        "And we can save these seqences as a new file:"
      ]
    },
    {
      "cell_type": "code",
      "metadata": {
        "id": "GDDXofGTtQcj"
      },
      "source": [
        "%%bash\n",
        "cat read1.txt | tr \"ATGC\" \"TACG\" | rev > read1_revcomp.txt"
      ],
      "execution_count": 49,
      "outputs": []
    },
    {
      "cell_type": "markdown",
      "metadata": {
        "id": "o4OoDfD6taiD"
      },
      "source": [
        "## Summary\n",
        "\n",
        "In summary we learned how to use the `awk` command along with the modulo (`%`) operator in order to convert a FASTQ file into a text file of just sequences. We then learned how to use the `echo`, `tr`, and `rev` command to find the reverse complement of the sequences in this file."
      ]
    }
  ]
}