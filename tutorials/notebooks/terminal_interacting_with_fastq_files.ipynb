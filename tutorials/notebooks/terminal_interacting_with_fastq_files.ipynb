{
  "nbformat": 4,
  "nbformat_minor": 0,
  "metadata": {
    "colab": {
      "name": "terminal_interacting_with_fastq_files.ipynb",
      "provenance": [],
      "toc_visible": true,
      "authorship_tag": "ABX9TyNuBa3kA0oHvKEko4x9hy70",
      "include_colab_link": true
    },
    "kernelspec": {
      "name": "python3",
      "display_name": "Python 3"
    }
  },
  "cells": [
    {
      "cell_type": "markdown",
      "metadata": {
        "id": "view-in-github",
        "colab_type": "text"
      },
      "source": [
        "<a href=\"https://colab.research.google.com/github/sbooeshaghi/bytesizebio/blob/main/tutorials/notebooks/terminal_interacting_with_fastq_files.ipynb\" target=\"_parent\"><img src=\"https://colab.research.google.com/assets/colab-badge.svg\" alt=\"Open In Colab\"/></a>"
      ]
    },
    {
      "cell_type": "markdown",
      "metadata": {
        "id": "W2dAuD6GN1nT"
      },
      "source": [
        "# Interacting with FASTQ files"
      ]
    },
    {
      "cell_type": "markdown",
      "metadata": {
        "id": "sM6nO5LdSIY3"
      },
      "source": [
        "FASTQ files are text files that contain biological sequences, usually nucleotides, and their associated quality scores. The quality score is a measure of how accurate the base-call is for each letter in the sequence. For more information please see the [wikipedia entry](https://en.wikipedia.org/wiki/FASTQ_format).\n",
        "\n",
        "----------\n",
        "\n",
        "**tl;dr** In this tutorial we introduce ways to interact with FASTQ files by the command line."
      ]
    },
    {
      "cell_type": "markdown",
      "metadata": {
        "id": "eZ6hDuX7Ukoj"
      },
      "source": [
        "## The `curl` command\n",
        "\n",
        "We will use the `curl` command to download FASTQ files to our machine. [`curl`](https://curl.se/) is a command line tool that allows us to download files. It takes a URL as an argument and downloads the file to your local computer in the current directory. For most cases when downloading data with `curl` we will use the following syntax:\n",
        "\n",
        "```\n",
        "$ curl -Ls -o outputfile.txt http://www.somewebsite.com/myfile.txt\n",
        "```\n",
        "\n",
        "Where the `-L` tells the command to follow \"redirects\" in case the file as been moved, `-s` tells the command to be silent and the `-o` tells the command the name of the file to be saved. "
      ]
    },
    {
      "cell_type": "markdown",
      "metadata": {
        "id": "tBuscMmmu7pF"
      },
      "source": [
        "## Downloading FASTQ files\n",
        "\n",
        "FASTQ files usually come in pairs. They are coloquially called \"read 1\" and \"read 2\". This naming refers to the order in which the molecules were sequenced. We won't cover the many ways in which FASTQ files can be generated in this tutorial but for more details please check out these resources: [Illumina documentation](https://web.archive.org/web/20200414070028/https://www.illumina.com/content/dam/illumina-support/documents/documentation/system_documentation/miseq/indexed-sequencing-overview-guide-15057455-06.pdf), [Next Generation Sequencing Core @UPenn](https://ngsc.med.upenn.edu/faqs-mini/FASTQ-Files.html)."
      ]
    },
    {
      "cell_type": "code",
      "metadata": {
        "id": "QRDkNunvSW8I"
      },
      "source": [
        "!curl -Ls -o read1.fastq https://caltech.box.com/shared/static/fh81mkceb8ydwma3tlrqfgq22z4kc4nt.gz\n",
        "!curl -Ls -o read2.fastq https://caltech.box.com/shared/static/ycxkluj5my7g3wiwhyq3vhv71mw5gmj5.gz"
      ],
      "execution_count": 15,
      "outputs": []
    },
    {
      "cell_type": "code",
      "metadata": {
        "colab": {
          "base_uri": "https://localhost:8080/"
        },
        "id": "Sc1L6t7ouv2D",
        "outputId": "3b859568-b352-4b9b-b73a-e09ad09c5644"
      },
      "source": [
        "!ls -lht"
      ],
      "execution_count": 18,
      "outputs": [
        {
          "output_type": "stream",
          "text": [
            "total 434M\n",
            "-rw-r--r-- 1 root root 247M Jan  4 23:49 read2.fastq\n",
            "-rw-r--r-- 1 root root 188M Jan  4 23:48 read1.fastq\n",
            "drwxr-xr-x 1 root root 4.0K Dec 21 17:29 sample_data\n"
          ],
          "name": "stdout"
        }
      ]
    },
    {
      "cell_type": "markdown",
      "metadata": {
        "id": "LS_ulC7Sw4wy"
      },
      "source": [
        "## Interacting with FASTQ files\n",
        "\n",
        "FASTQ files can be quite large, often on the order of tens to hundreds of gigabytes, therefore it is impractical to open them up and view them in a text editor. For this reason FASTQ files are often \"compressed\" to save storage space. The type of compression is colloquially called \"gzip\" compression to refer to the command line tool that compresses files."
      ]
    },
    {
      "cell_type": "markdown",
      "metadata": {
        "id": "4HLWVEdSCtUH"
      },
      "source": [
        "### Useful commands"
      ]
    },
    {
      "cell_type": "markdown",
      "metadata": {
        "id": "aiqn1Mktxbat"
      },
      "source": [
        "#### The `gzip` command and the `gunzip` command\n",
        "\n",
        "Often times FASTQ files end with `.fastq.gz`. This means that they have been compressed with the [`gzip`](https://www.gnu.org/software/gzip/) command. They can be decompressed them with the [`gunzip`](https://linux.die.net/man/1/gunzip) command. Though most of the time we don't want to decompress them since that would require a lot of space. The syntax for decompressing and compressing a file in most cases will look like the following:\n",
        "\n",
        "```\n",
        "$ gunzip file.fastq.gz \n",
        "$ gzip file.fastq\n",
        "```\n",
        "\n",
        "Our files are currently decompressed. Let's see how much space we save by compressing them."
      ]
    },
    {
      "cell_type": "code",
      "metadata": {
        "colab": {
          "base_uri": "https://localhost:8080/"
        },
        "id": "91Z298MWzAYx",
        "outputId": "d175ced0-c909-41ec-8722-4a8e957db60e"
      },
      "source": [
        "!ls -lht\n",
        "!gzip read1.fastq\n",
        "!gzip read2.fastq\n",
        "!ls -lht"
      ],
      "execution_count": 22,
      "outputs": [
        {
          "output_type": "stream",
          "text": [
            "total 434M\n",
            "-rw-r--r-- 1 root root 247M Jan  4 23:49 read2.fastq\n",
            "-rw-r--r-- 1 root root 188M Jan  4 23:48 read1.fastq\n",
            "drwxr-xr-x 1 root root 4.0K Dec 21 17:29 sample_data\n",
            "total 74M\n",
            "-rw-r--r-- 1 root root  47M Jan  4 23:49 read2.fastq.gz\n",
            "-rw-r--r-- 1 root root  28M Jan  4 23:48 read1.fastq.gz\n",
            "drwxr-xr-x 1 root root 4.0K Dec 21 17:29 sample_data\n"
          ],
          "name": "stdout"
        }
      ]
    },
    {
      "cell_type": "markdown",
      "metadata": {
        "id": "pC3QQcgSz9H8"
      },
      "source": [
        "The `read1` FASTQ file went from 188 Megabytes in size (decompressed, `read1.fastq`) to 28 Megabytes in size (compressed, `read1.fastq.gz`) and the `read2` FASTQ file went from 247 Megabytes (decompressed, `read2.fastq`) to 47 Megabytes (compressed, `read2.fastq.gz`). The `read1` file was compressed by a factor of 6.7 and the `read2` file was compressed by a factor of 5.2.\n"
      ]
    },
    {
      "cell_type": "markdown",
      "metadata": {
        "id": "Nq6PdY0MxxBE"
      },
      "source": [
        "#### The `zcat` command\n",
        "\n",
        "Since we almost always want to keep our FASTQ files compressed but we still want to be able to read them we will use a modified version of the `cat` command but for files that have been compressed with `gzip`. The [`zcat`](https://linux.die.net/man/1/zcat) command does exactly the same thing to a file as the `cat`, namely it prints the contents of the file to the screen. The difference, however is that the `zcat` command expects a compressed file. The syntax looks like this:\n",
        "\n",
        "```\n",
        "$ zcat file.fastq.gz\n",
        "```"
      ]
    },
    {
      "cell_type": "markdown",
      "metadata": {
        "id": "2RUniB-H1174"
      },
      "source": [
        "### Reading FASTQ files\n",
        "\n",
        "If we simply use `zcat` as above it will print the whole file to the screen so instead we \"pipe\" the output of the zcat command to the `head` command. We don't conver pipes in this video but there are a lot of great resources covering them. Here is a [nice video](https://www.youtube.com/watch?v=bKzonnwoR2I) explaining pipes.\n",
        "\n",
        "The `head` command just stops the process of printing after a certain number of lines. The default is 10 lines."
      ]
    },
    {
      "cell_type": "code",
      "metadata": {
        "colab": {
          "base_uri": "https://localhost:8080/"
        },
        "id": "k7eT5aX_wLUg",
        "outputId": "a072c76e-b898-4788-ffa2-4cc23ca0129f"
      },
      "source": [
        "!zcat read1.fastq.gz | head"
      ],
      "execution_count": 23,
      "outputs": [
        {
          "output_type": "stream",
          "text": [
            "@SRR8611943.1 NS500272:478:HVL5HBGX5:1:11101:9611:1040 length=26\n",
            "ACATCNGTCGAGAACGATCGTGTCCG\n",
            "+SRR8611943.1 NS500272:478:HVL5HBGX5:1:11101:9611:1040 length=26\n",
            "AAAAA#EEEEEEEEEEEEEEEEEEEE\n",
            "@SRR8611943.2 NS500272:478:HVL5HBGX5:1:11101:20079:1043 length=26\n",
            "TCAGCNCCAACTGCTAGTCTTTCCCT\n",
            "+SRR8611943.2 NS500272:478:HVL5HBGX5:1:11101:20079:1043 length=26\n",
            "AAAAA#EEEEEE6EEEEEEEEEEEEE\n",
            "@SRR8611943.3 NS500272:478:HVL5HBGX5:1:11101:10651:1043 length=26\n",
            "TGAAANATCACGCGGTTCATCAGTAG\n"
          ],
          "name": "stdout"
        }
      ]
    },
    {
      "cell_type": "markdown",
      "metadata": {
        "id": "Y0ur6M-t3wmr"
      },
      "source": [
        "We can change the number of lines printed by `head` by specifying a `-n` option:"
      ]
    },
    {
      "cell_type": "code",
      "metadata": {
        "colab": {
          "base_uri": "https://localhost:8080/"
        },
        "id": "M_VoLgepzXjR",
        "outputId": "512b320e-ea42-4c63-b63e-596096671487"
      },
      "source": [
        "!zcat read1.fastq.gz | head -n 4"
      ],
      "execution_count": 26,
      "outputs": [
        {
          "output_type": "stream",
          "text": [
            "@SRR8611943.1 NS500272:478:HVL5HBGX5:1:11101:9611:1040 length=26\n",
            "ACATCNGTCGAGAACGATCGTGTCCG\n",
            "+SRR8611943.1 NS500272:478:HVL5HBGX5:1:11101:9611:1040 length=26\n",
            "AAAAA#EEEEEEEEEEEEEEEEEEEE\n"
          ],
          "name": "stdout"
        }
      ]
    },
    {
      "cell_type": "markdown",
      "metadata": {
        "id": "2_UEX6E-48Ye"
      },
      "source": [
        "### FASTQ Format\n",
        "\n",
        "Every four lines in a FASTQ file represent one molecule that was sequenced.\n",
        "\n",
        "```\n",
        "@SRR8611943.1 NS500272:478:HVL5HBGX5:1:11101:9611:1040 length=26\n",
        "ACATCNGTCGAGAACGATCGTGTCCG\n",
        "+SRR8611943.1 NS500272:478:HVL5HBGX5:1:11101:9611:1040 length=26\n",
        "AAAAA#EEEEEEEEEEEEEEEEEEEE\n",
        "```\n",
        "\n",
        "The first line is the molecule identifier, the second line is the actual sequence of the molecule, the third line starts with a `+` sign and provides optional information, and the fourth line is the quality score of the sequence. Note that the quality score must be the same length of the molecule. To learn more about quality scores please check out the [Illumina documentation](https://support.illumina.com/help/BaseSpace_OLH_009008/Content/Source/Informatics/BS/QualityScoreEncoding_swBS.htm)."
      ]
    },
    {
      "cell_type": "markdown",
      "metadata": {
        "id": "EJy4FZQM6ahf"
      },
      "source": [
        "### Counting the number of molecules (reads)\n",
        "\n",
        "A common task for bioinformaticians is to count the number of reads (also known as the number of molecules) in a FASTQ file. This means we need to count the number of lines in the FASTQ file and then divide by four, since a read is represented by four lines.\n",
        "\n",
        "We will use the [`wc`](https://linuxize.com/post/linux-wc-command/) command to count the number of lines in a file. The `wc` command is a commandline tool to count the number of words, characters, and lines in a file. The syntax for counting lines in a file is the following:\n",
        "\n",
        "```\n",
        "$ wc -l myfile.txt\n",
        "```\n",
        "\n",
        "We will use the `wc` command to count the number of lines in the FASTQ file and then we will divide by four to get the number of reads."
      ]
    },
    {
      "cell_type": "code",
      "metadata": {
        "colab": {
          "base_uri": "https://localhost:8080/"
        },
        "id": "4ARujjP_32fo",
        "outputId": "54458b5d-5b4e-4271-bc74-fc1a142c0a45"
      },
      "source": [
        "!zcat read1.fastq.gz | wc -l\n",
        "!zcat read2.fastq.gz | wc -l"
      ],
      "execution_count": 28,
      "outputs": [
        {
          "output_type": "stream",
          "text": [
            "4000000\n",
            "4000000\n"
          ],
          "name": "stdout"
        }
      ]
    },
    {
      "cell_type": "markdown",
      "metadata": {
        "id": "QYJBJ0J58m10"
      },
      "source": [
        "Both read1 and read2 have 4,000,000 lines, this means that they have 1 million reads. For \"paired-end\" sequencing data where read 1 and read 2 are given, both FASTQ files will always have the same number of reads since sequneces from a single molecule are represented in both files."
      ]
    },
    {
      "cell_type": "markdown",
      "metadata": {
        "id": "OPWG4i6q-qBa"
      },
      "source": [
        "### Finding an exact sequence\n",
        "\n",
        "Another common task for bioinformaticians is to find an exact sequence in the FASTQ files. We will use the `grep` command along with the `zcat` command. The [`grep`](https://man7.org/linux/man-pages/man1/grep.1.html) command is a commandline tool that enables searching. The `grep` command can get complicated but most use cases can be covered by the following syntax:\n",
        "\n",
        "```\n",
        "$ grep \"find this\" myfile.txt\n",
        "```\n",
        "\n",
        "Let's find the sequence `ATTAGGAGCCG` in `read1.fastq.gz`."
      ]
    },
    {
      "cell_type": "code",
      "metadata": {
        "colab": {
          "base_uri": "https://localhost:8080/"
        },
        "id": "2FNgf6CHAEmK",
        "outputId": "5cb35b4c-1a6d-4c23-96b3-9abc02434d44"
      },
      "source": [
        "!zcat read2.fastq.gz | grep \"ATTAGGAGCCG\""
      ],
      "execution_count": 33,
      "outputs": [
        {
          "output_type": "stream",
          "text": [
            "GAAGATGTTGTCGTGGATACTGAAATGCGTCGTCAAAAATTAGGAGCCGTTCTTTTG\n",
            "GTCAAAAATTAGGAGCCGTTCTTTTGAAGACTCTTGTTTCTCTTGGAAAGTCTCTCG\n",
            "GCGTCGTCAAAAATTAGGAGCCGTTGGTTTGAAGAATCTTTTTTCTAATGGAAAGTG\n",
            "GCGTCGTCAAAAATTAGGAGCCGTTCTTTTGAAGACTCTTGTTTCTCTTGGAAAGTC\n",
            "CAAAAATTAGGAGCCGTTCTTTTGAAGACTCTTGTTTCTCTTGGAAAGTCTCTCGGA\n"
          ],
          "name": "stdout"
        }
      ]
    },
    {
      "cell_type": "markdown",
      "metadata": {
        "id": "cEXjR3vF-k1T"
      },
      "source": [
        "### Enumerating lines of a FASTQ file\n",
        "\n",
        "In the above example we found five reads that contain our sequence of interest but we don't know what line number they came from. We can figure this out by using the `nl` command. The `nl` command is a commandline tool to add line numbers to the file. The syntax is as follows:\n",
        "\n",
        "```\n",
        "$ nl file.txt\n",
        "```\n",
        "\n",
        "Let's find out the line numbers where we found our sequence."
      ]
    },
    {
      "cell_type": "code",
      "metadata": {
        "colab": {
          "base_uri": "https://localhost:8080/"
        },
        "id": "yqbyea73-awa",
        "outputId": "d8b3ad39-34ce-40c1-f9bf-84172c0c08ce"
      },
      "source": [
        "!zcat read2.fastq.gz | nl | grep \"ATTAGGAGCCG\""
      ],
      "execution_count": 34,
      "outputs": [
        {
          "output_type": "stream",
          "text": [
            "535046\tGAAGATGTTGTCGTGGATACTGAAATGCGTCGTCAAAAATTAGGAGCCGTTCTTTTG\n",
            "745522\tGTCAAAAATTAGGAGCCGTTCTTTTGAAGACTCTTGTTTCTCTTGGAAAGTCTCTCG\n",
            "818990\tGCGTCGTCAAAAATTAGGAGCCGTTGGTTTGAAGAATCTTTTTTCTAATGGAAAGTG\n",
            "1654078\tGCGTCGTCAAAAATTAGGAGCCGTTCTTTTGAAGACTCTTGTTTCTCTTGGAAAGTC\n",
            "1956810\tCAAAAATTAGGAGCCGTTCTTTTGAAGACTCTTGTTTCTCTTGGAAAGTCTCTCGGA\n"
          ],
          "name": "stdout"
        }
      ]
    },
    {
      "cell_type": "markdown",
      "metadata": {
        "id": "ImdWcxArDGdw"
      },
      "source": [
        "## Summary\n",
        "\n",
        "In this tutorial we learned how to interact with FASTQ files using built in shell commands to perform simple tasks. "
      ]
    }
  ]
}